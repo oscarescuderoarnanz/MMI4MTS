{
 "cells": [
  {
   "cell_type": "code",
   "execution_count": 1,
   "id": "2b4a7c5f",
   "metadata": {},
   "outputs": [],
   "source": [
    "import pandas as pd\n",
    "import numpy as np\n",
    "import matplotlib.pyplot as plt\n",
    "from joblib import Parallel, delayed\n",
    "\n",
    "import warnings\n",
    "warnings.filterwarnings(\"ignore\")\n",
    "import random\n",
    "\n",
    "import dtw"
   ]
  },
  {
   "cell_type": "markdown",
   "id": "ba3ef6eb",
   "metadata": {},
   "source": [
    "## Features"
   ]
  },
  {
   "cell_type": "code",
   "execution_count": 2,
   "id": "c150a618",
   "metadata": {},
   "outputs": [],
   "source": [
    "folders = [\"s1\", \"s2\", \"s3\", \"s4\"]\n",
    "\n",
    "keys = [ 'YearOfAdmission', 'Gender', 'Age', 'SAPSIIIScore']\n",
    "\n",
    "binary = ['Gender']\n",
    "\n",
    "continuous =  [variable for variable in keys if variable not in binary]"
   ]
  },
  {
   "cell_type": "markdown",
   "id": "676c01a3",
   "metadata": {},
   "source": [
    "## Correlations between variables\n",
    "- B-B: Phi \n",
    "- C-C: Pearson\n",
    "- B-C: Point Biserial"
   ]
  },
  {
   "cell_type": "code",
   "execution_count": 3,
   "id": "ac02ddce",
   "metadata": {},
   "outputs": [
    {
     "name": "stdout",
     "output_type": "stream",
     "text": [
      "X_train shape after reshape: (4, 2526)\n",
      "(4, 4)\n",
      "X_train shape after reshape: (4, 2526)\n",
      "(4, 4)\n",
      "X_train shape after reshape: (4, 2526)\n",
      "(4, 4)\n",
      "X_train shape after reshape: (4, 2526)\n",
      "(4, 4)\n"
     ]
    }
   ],
   "source": [
    "for c in range(len(folders)):\n",
    "    \n",
    "    ####### BEGIN CODE ===>>\n",
    "    # Load data\n",
    "    X_train = pd.read_csv(\"../../../../../ORIGINAL_DATA/splits_14_days/majority/split_\" + str(c) +\n",
    "                          \"/X_train_static_\" + str(0)+ \".csv\")\n",
    "    X_train = X_train.drop(['Unnamed: 0'], axis=1)\n",
    "    X_val = pd.read_csv(\"../../../../../ORIGINAL_DATA/splits_14_days/majority/split_\" + str(c) +\n",
    "                        \"/X_val_static_\" + str(0)+ \".csv\")\n",
    "    X_val = X_val.drop(['Unnamed: 0'], axis=1)\n",
    "    x = np.concatenate((X_train, X_val), axis=0).T\n",
    "        \n",
    "    print(\"X_train shape after reshape:\", x.shape)\n",
    "    \n",
    "\n",
    "    # Initialize an 80x80 distance matrix\n",
    "    mat_by_time_step = np.zeros((x.shape[0], x.shape[0]))\n",
    "\n",
    "    for i in range(x.shape[0]):\n",
    "        for j in range(x.shape[0]):\n",
    "            mat_by_time_step[i, j] = dtw.hgd_distance(x[i], x[j], keys[i], keys[j], binary, continuous)\n",
    "\n",
    "    S = dtw.diagonal_to_zero(mat_by_time_step)\n",
    "    \n",
    "    print(S.shape)\n",
    "\n",
    "    pd.DataFrame(S, columns=keys, index=keys).to_csv(\"./estimatedGraphs/dtw/\" + folders[c] + \"/X_train_STATIC.csv\", index=False)\n"
   ]
  }
 ],
 "metadata": {
  "kernelspec": {
   "display_name": "Python 3 (ipykernel)",
   "language": "python",
   "name": "python3"
  },
  "language_info": {
   "codemirror_mode": {
    "name": "ipython",
    "version": 3
   },
   "file_extension": ".py",
   "mimetype": "text/x-python",
   "name": "python",
   "nbconvert_exporter": "python",
   "pygments_lexer": "ipython3",
   "version": "3.11.4"
  }
 },
 "nbformat": 4,
 "nbformat_minor": 5
}
