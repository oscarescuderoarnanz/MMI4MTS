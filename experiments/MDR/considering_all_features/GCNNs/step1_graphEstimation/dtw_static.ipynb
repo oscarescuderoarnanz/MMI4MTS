{
 "cells": [
  {
   "cell_type": "code",
   "execution_count": 32,
   "id": "2b4a7c5f",
   "metadata": {},
   "outputs": [],
   "source": [
    "import pandas as pd\n",
    "import numpy as np\n",
    "import matplotlib.pyplot as plt\n",
    "from joblib import Parallel, delayed\n",
    "\n",
    "import warnings\n",
    "warnings.filterwarnings(\"ignore\")\n",
    "import random\n",
    "\n",
    "import dtw"
   ]
  },
  {
   "cell_type": "markdown",
   "id": "ba3ef6eb",
   "metadata": {},
   "source": [
    "## Features"
   ]
  },
  {
   "cell_type": "code",
   "execution_count": 33,
   "id": "c150a618",
   "metadata": {},
   "outputs": [],
   "source": [
    "folders = [\"s1\", \"s2\", \"s3\", \"s4\"]\n",
    "\n",
    "keys = ['Age', 'Gender', 'SAPSIIIScore', 'MonthOfAdmission', 'YearOfAdmission',\n",
    "       'Origin', 'ReasonAdmission', 'PatientCategory']\n",
    "\n",
    "binary = ['Gender']\n",
    "\n",
    "continuous =  [variable for variable in keys if variable not in binary]"
   ]
  },
  {
   "cell_type": "markdown",
   "id": "676c01a3",
   "metadata": {},
   "source": [
    "## Correlations between variables\n",
    "- B-B: Phi \n",
    "- C-C: Pearson\n",
    "- B-C: Point Biserial"
   ]
  },
  {
   "cell_type": "code",
   "execution_count": 36,
   "id": "ac02ddce",
   "metadata": {},
   "outputs": [
    {
     "name": "stdout",
     "output_type": "stream",
     "text": [
      "X_train shape after reshape: (8, 2526)\n",
      "(8, 8)\n",
      "X_train shape after reshape: (8, 2526)\n",
      "(8, 8)\n",
      "X_train shape after reshape: (8, 2526)\n",
      "(8, 8)\n",
      "X_train shape after reshape: (8, 2526)\n",
      "(8, 8)\n"
     ]
    }
   ],
   "source": [
    "for c in range(len(folders)):\n",
    "    \n",
    "    ####### BEGIN CODE ===>>\n",
    "    # Load data\n",
    "    X_train = pd.read_csv(\"../../../../ORIGINAL_DATA/splits_14_days/notbalanced/split_\" + str(c) +\n",
    "                          \"/X_train_static_\" + str(0)+ \".csv\")\n",
    "    X_train = X_train.drop(['Unnamed: 0'], axis=1)\n",
    "    X_val = pd.read_csv(\"../../../../ORIGINAL_DATA/splits_14_days/notbalanced/split_\" + str(c) +\n",
    "                        \"/X_val_static_\" + str(0)+ \".csv\")\n",
    "    X_val = X_val.drop(['Unnamed: 0'], axis=1)\n",
    "    x = np.concatenate((X_train, X_val), axis=0).T\n",
    "        \n",
    "    print(\"X_train shape after reshape:\", x.shape)\n",
    "    \n",
    "\n",
    "    # Initialize an 80x80 distance matrix\n",
    "    mat_by_time_step = np.zeros((x.shape[0], x.shape[0]))\n",
    "\n",
    "    for i in range(x.shape[0]):\n",
    "        for j in range(x.shape[0]):\n",
    "            mat_by_time_step[i, j] = dtw.hgd_distance(x[i], x[j], keys[i], keys[j], binary, continuous)\n",
    "\n",
    "    S = dtw.diagonal_to_zero(mat_by_time_step)\n",
    "    \n",
    "    print(S.shape)\n",
    "\n",
    "    pd.DataFrame(S, columns=keys, index=keys).to_csv(\"./estimatedGraphs/dtw/\" + folders[c] + \"/X_train_STATIC.csv\", index=False)\n"
   ]
  },
  {
   "cell_type": "code",
   "execution_count": 3,
   "id": "bd0bf4cb-560d-476f-80c5-3c6ae70b5433",
   "metadata": {},
   "outputs": [
    {
     "ename": "NameError",
     "evalue": "name 'np' is not defined",
     "output_type": "error",
     "traceback": [
      "\u001b[0;31m---------------------------------------------------------------------------\u001b[0m",
      "\u001b[0;31mNameError\u001b[0m                                 Traceback (most recent call last)",
      "Cell \u001b[0;32mIn[3], line 8\u001b[0m\n\u001b[1;32m      5\u001b[0m X_val \u001b[38;5;241m=\u001b[39m pd\u001b[38;5;241m.\u001b[39mread_csv(\u001b[38;5;124m\"\u001b[39m\u001b[38;5;124m../../../../ORIGINAL_DATA/splits_14_days/notbalanced/split_\u001b[39m\u001b[38;5;124m\"\u001b[39m \u001b[38;5;241m+\u001b[39m \u001b[38;5;28mstr\u001b[39m(\u001b[38;5;241m0\u001b[39m) \u001b[38;5;241m+\u001b[39m\n\u001b[1;32m      6\u001b[0m                     \u001b[38;5;124m\"\u001b[39m\u001b[38;5;124m/X_val_static_\u001b[39m\u001b[38;5;124m\"\u001b[39m \u001b[38;5;241m+\u001b[39m \u001b[38;5;28mstr\u001b[39m(\u001b[38;5;241m0\u001b[39m)\u001b[38;5;241m+\u001b[39m \u001b[38;5;124m\"\u001b[39m\u001b[38;5;124m.csv\u001b[39m\u001b[38;5;124m\"\u001b[39m)\n\u001b[1;32m      7\u001b[0m X_val \u001b[38;5;241m=\u001b[39m X_val\u001b[38;5;241m.\u001b[39mdrop([\u001b[38;5;124m'\u001b[39m\u001b[38;5;124mUnnamed: 0\u001b[39m\u001b[38;5;124m'\u001b[39m], axis\u001b[38;5;241m=\u001b[39m\u001b[38;5;241m1\u001b[39m)\n\u001b[0;32m----> 8\u001b[0m x \u001b[38;5;241m=\u001b[39m \u001b[43mnp\u001b[49m\u001b[38;5;241m.\u001b[39mconcatenate((X_train, X_val), axis\u001b[38;5;241m=\u001b[39m\u001b[38;5;241m0\u001b[39m)\u001b[38;5;241m.\u001b[39mT\n\u001b[1;32m     10\u001b[0m \u001b[38;5;28mprint\u001b[39m(\u001b[38;5;124m\"\u001b[39m\u001b[38;5;124mX_train shape after reshape:\u001b[39m\u001b[38;5;124m\"\u001b[39m, x\u001b[38;5;241m.\u001b[39mshape)\n",
      "\u001b[0;31mNameError\u001b[0m: name 'np' is not defined"
     ]
    }
   ],
   "source": [
    "import pandas as pd\n",
    "import nm\n",
    "X_train = pd.read_csv(\"../../../../ORIGINAL_DATA/splits_14_days/notbalanced/split_\" + str(0) +\n",
    "                      \"/X_train_static_\" + str(0)+ \".csv\")\n",
    "X_train = X_train.drop(['Unnamed: 0'], axis=1)\n",
    "X_val = pd.read_csv(\"../../../../ORIGINAL_DATA/splits_14_days/notbalanced/split_\" + str(0) +\n",
    "                    \"/X_val_static_\" + str(0)+ \".csv\")\n",
    "X_val = X_val.drop(['Unnamed: 0'], axis=1)\n",
    "x = np.concatenate((X_train, X_val), axis=0).T\n",
    "    \n",
    "print(\"X_train shape after reshape:\", x.shape)"
   ]
  },
  {
   "cell_type": "code",
   "execution_count": null,
   "id": "79ed2897-ad8e-4e23-a3f8-0cf75c5e08bf",
   "metadata": {},
   "outputs": [],
   "source": []
  }
 ],
 "metadata": {
  "kernelspec": {
   "display_name": "Python 3 (ipykernel)",
   "language": "python",
   "name": "python3"
  },
  "language_info": {
   "codemirror_mode": {
    "name": "ipython",
    "version": 3
   },
   "file_extension": ".py",
   "mimetype": "text/x-python",
   "name": "python",
   "nbconvert_exporter": "python",
   "pygments_lexer": "ipython3",
   "version": "3.8.10"
  }
 },
 "nbformat": 4,
 "nbformat_minor": 5
}
