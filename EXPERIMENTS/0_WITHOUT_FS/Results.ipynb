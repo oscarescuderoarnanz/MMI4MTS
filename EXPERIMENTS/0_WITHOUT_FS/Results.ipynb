{
 "cells": [
  {
   "cell_type": "code",
   "execution_count": 1,
   "id": "f3c6abc9-403d-40dc-88eb-2efb4de6b98d",
   "metadata": {},
   "outputs": [],
   "source": [
    "import os\n",
    "import pandas as pd\n",
    "import numpy as np"
   ]
  },
  {
   "cell_type": "markdown",
   "id": "65b51829-e1ca-40ef-b29e-a041837d95cb",
   "metadata": {},
   "source": [
    "# 1. Functions"
   ]
  },
  {
   "cell_type": "code",
   "execution_count": 2,
   "id": "60128fbe-b9b3-41d2-bf7a-4d483500d472",
   "metadata": {},
   "outputs": [],
   "source": [
    "def load_metrics(model_folder, split):\n",
    "    metrics_file = os.path.join(model_folder, f\"split_{split}\", f\"metrics_split{split}.csv\")\n",
    "    return pd.read_csv(metrics_file)\n",
    "\n",
    "# Calculate statistics accross the different splits\n",
    "def calculate_statistics(model_folder, splits=[1, 2, 3]):\n",
    "    all_metrics = []\n",
    "\n",
    "    # Load metrics from all the splits\n",
    "    for split in splits:\n",
    "        split_metrics = load_metrics(model_folder, split)\n",
    "        all_metrics.append(split_metrics)\n",
    "\n",
    "    # Concatenate\n",
    "    metrics_df = pd.concat(all_metrics)\n",
    "\n",
    "    # Mean and standard deviation for each metric\n",
    "    statistics = {\n",
    "        \"mean\": metrics_df.mean(),\n",
    "        \"std_dev\": metrics_df.std()\n",
    "    }\n",
    "    return statistics"
   ]
  },
  {
   "cell_type": "code",
   "execution_count": 3,
   "id": "9ea4f3a3-76c3-4f05-b9eb-d3a0d7658c9e",
   "metadata": {},
   "outputs": [],
   "source": [
    "models = [\"./Results_MLP\", \n",
    "          \"./Results_GRU\", \n",
    "          \"./Results_FHSI\",\n",
    "          \"./Results_JHF\",\n",
    "          \"./Results_LFLR/LR/\",\n",
    "          \"./Results_LFCO/LR/\"\n",
    "         ]\n",
    "\n",
    "\n",
    "results = []\n",
    "for model in models:\n",
    "    statistics = calculate_statistics(model)\n",
    "    \n",
    "    accuracy = f\"{statistics['mean']['accuracy']*100:.2f} ± {statistics['std_dev']['accuracy']*100:.2f}\"\n",
    "    specificity = f\"{statistics['mean']['specificity']*100:.2f} ± {statistics['std_dev']['specificity']*100:.2f}\"\n",
    "    recall = f\"{statistics['mean']['recall']*100:.2f} ± {statistics['std_dev']['recall']*100:.2f}\"\n",
    "    roc_auc = f\"{statistics['mean']['roc_auc']*100:.2f} ± {statistics['std_dev']['roc_auc']*100:.2f}\"\n",
    "    \n",
    "    results.append({\n",
    "        \"Model\": model,\n",
    "        \"Accuracy\": accuracy,\n",
    "        \"Specificity\": specificity,\n",
    "        \"Recall\": recall,\n",
    "        \"ROC_AUC\": roc_auc\n",
    "    })\n",
    "\n",
    "results_df = pd.DataFrame(results)"
   ]
  },
  {
   "cell_type": "code",
   "execution_count": 4,
   "id": "f923d7d0-37f9-4b95-b9fd-5ababb2d787e",
   "metadata": {},
   "outputs": [
    {
     "data": {
      "text/html": [
       "<div>\n",
       "<style scoped>\n",
       "    .dataframe tbody tr th:only-of-type {\n",
       "        vertical-align: middle;\n",
       "    }\n",
       "\n",
       "    .dataframe tbody tr th {\n",
       "        vertical-align: top;\n",
       "    }\n",
       "\n",
       "    .dataframe thead th {\n",
       "        text-align: right;\n",
       "    }\n",
       "</style>\n",
       "<table border=\"1\" class=\"dataframe\">\n",
       "  <thead>\n",
       "    <tr style=\"text-align: right;\">\n",
       "      <th></th>\n",
       "      <th>Model</th>\n",
       "      <th>Accuracy</th>\n",
       "      <th>Specificity</th>\n",
       "      <th>Recall</th>\n",
       "      <th>ROC_AUC</th>\n",
       "    </tr>\n",
       "  </thead>\n",
       "  <tbody>\n",
       "    <tr>\n",
       "      <th>0</th>\n",
       "      <td>./Results_MLP</td>\n",
       "      <td>52.53 ± 4.04</td>\n",
       "      <td>49.46 ± 7.89</td>\n",
       "      <td>64.12 ± 11.79</td>\n",
       "      <td>61.99 ± 0.80</td>\n",
       "    </tr>\n",
       "    <tr>\n",
       "      <th>1</th>\n",
       "      <td>./Results_GRU</td>\n",
       "      <td>66.88 ± 2.60</td>\n",
       "      <td>67.94 ± 3.26</td>\n",
       "      <td>62.81 ± 3.56</td>\n",
       "      <td>70.14 ± 0.82</td>\n",
       "    </tr>\n",
       "    <tr>\n",
       "      <th>2</th>\n",
       "      <td>./Results_FHSI</td>\n",
       "      <td>68.83 ± 3.16</td>\n",
       "      <td>69.39 ± 4.44</td>\n",
       "      <td>66.61 ± 1.99</td>\n",
       "      <td>73.78 ± 1.38</td>\n",
       "    </tr>\n",
       "    <tr>\n",
       "      <th>3</th>\n",
       "      <td>./Results_JHF</td>\n",
       "      <td>68.46 ± 1.32</td>\n",
       "      <td>68.56 ± 2.34</td>\n",
       "      <td>68.32 ± 4.21</td>\n",
       "      <td>72.69 ± 0.99</td>\n",
       "    </tr>\n",
       "    <tr>\n",
       "      <th>4</th>\n",
       "      <td>./Results_LFLR/LR/</td>\n",
       "      <td>67.19 ± 4.23</td>\n",
       "      <td>68.07 ± 5.48</td>\n",
       "      <td>63.99 ± 2.39</td>\n",
       "      <td>71.39 ± 2.57</td>\n",
       "    </tr>\n",
       "    <tr>\n",
       "      <th>5</th>\n",
       "      <td>./Results_LFCO/LR/</td>\n",
       "      <td>61.76 ± 2.71</td>\n",
       "      <td>60.50 ± 3.93</td>\n",
       "      <td>66.82 ± 3.90</td>\n",
       "      <td>69.34 ± 0.60</td>\n",
       "    </tr>\n",
       "  </tbody>\n",
       "</table>\n",
       "</div>"
      ],
      "text/plain": [
       "                Model      Accuracy   Specificity         Recall       ROC_AUC\n",
       "0       ./Results_MLP  52.53 ± 4.04  49.46 ± 7.89  64.12 ± 11.79  61.99 ± 0.80\n",
       "1       ./Results_GRU  66.88 ± 2.60  67.94 ± 3.26   62.81 ± 3.56  70.14 ± 0.82\n",
       "2      ./Results_FHSI  68.83 ± 3.16  69.39 ± 4.44   66.61 ± 1.99  73.78 ± 1.38\n",
       "3       ./Results_JHF  68.46 ± 1.32  68.56 ± 2.34   68.32 ± 4.21  72.69 ± 0.99\n",
       "4  ./Results_LFLR/LR/  67.19 ± 4.23  68.07 ± 5.48   63.99 ± 2.39  71.39 ± 2.57\n",
       "5  ./Results_LFCO/LR/  61.76 ± 2.71  60.50 ± 3.93   66.82 ± 3.90  69.34 ± 0.60"
      ]
     },
     "execution_count": 4,
     "metadata": {},
     "output_type": "execute_result"
    }
   ],
   "source": [
    "results_df"
   ]
  },
  {
   "cell_type": "code",
   "execution_count": 5,
   "id": "4ba2a897-2ff8-49e2-98ac-d21c1fb06b5e",
   "metadata": {},
   "outputs": [
    {
     "data": {
      "text/plain": [
       "71.80000000000001"
      ]
     },
     "execution_count": 5,
     "metadata": {},
     "output_type": "execute_result"
    }
   ],
   "source": [
    "results_df[2:]['ROC_AUC'].str.split('±').str[0].astype(float).mean()"
   ]
  },
  {
   "cell_type": "code",
   "execution_count": 6,
   "id": "5524af8d-c5a2-477d-ba33-656af1a574bf",
   "metadata": {},
   "outputs": [
    {
     "data": {
      "text/plain": [
       "1.3849999999999998"
      ]
     },
     "execution_count": 6,
     "metadata": {},
     "output_type": "execute_result"
    }
   ],
   "source": [
    "results_df[2:]['ROC_AUC'].str.split('±').str[1].astype(float).mean()"
   ]
  },
  {
   "cell_type": "code",
   "execution_count": null,
   "id": "8f82a4ad-d955-46d8-a122-385b18f5ca70",
   "metadata": {},
   "outputs": [],
   "source": []
  }
 ],
 "metadata": {
  "kernelspec": {
   "display_name": "Python 3 (ipykernel)",
   "language": "python",
   "name": "python3"
  },
  "language_info": {
   "codemirror_mode": {
    "name": "ipython",
    "version": 3
   },
   "file_extension": ".py",
   "mimetype": "text/x-python",
   "name": "python",
   "nbconvert_exporter": "python",
   "pygments_lexer": "ipython3",
   "version": "3.8.10"
  }
 },
 "nbformat": 4,
 "nbformat_minor": 5
}
