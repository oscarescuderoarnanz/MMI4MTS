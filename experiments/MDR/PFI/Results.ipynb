{
 "cells": [
  {
   "cell_type": "code",
   "execution_count": 1,
   "id": "07456fed-de05-4fd5-899c-319af610bb8a",
   "metadata": {},
   "outputs": [],
   "source": [
    "import os\n",
    "import pandas as pd"
   ]
  },
  {
   "cell_type": "markdown",
   "id": "5bc1c69a-b9d5-4a18-952d-036e4ad1d949",
   "metadata": {},
   "source": [
    "# Functions to compute the numerical results"
   ]
  },
  {
   "cell_type": "code",
   "execution_count": 2,
   "id": "682d2138-2f4e-46c8-b3ef-92715a806a2e",
   "metadata": {},
   "outputs": [],
   "source": [
    "def load_metrics(result_folder, split):\n",
    "    if \"LFLR\" in result_folder:\n",
    "        metrics_file = os.path.join(result_folder, \"LR\", f\"split_{split}\", f\"metrics_split{split}.csv\")\n",
    "    elif \"LFCO\" in result_folder:\n",
    "        metrics_file = os.path.join(result_folder, \"LR\", f\"split_{split}\", f\"metrics_split{split}.csv\")\n",
    "    else:\n",
    "        metrics_file = os.path.join(result_folder, f\"split_{split}\", f\"metrics_split{split}.csv\")\n",
    "    \n",
    "    if not os.path.exists(metrics_file):\n",
    "        raise FileNotFoundError(f\"File not found: {metrics_file}\")\n",
    "    \n",
    "    return pd.read_csv(metrics_file)\n",
    "\n",
    "# Function to calculate the mean and standard deviation of metrics\n",
    "def calculate_statistics(result_folder, splits=[1, 2, 3]):\n",
    "    all_metrics = []\n",
    "\n",
    "    # Load metrics from all splits\n",
    "    for split in splits:\n",
    "        split_metrics = load_metrics(result_folder, split)\n",
    "        all_metrics.append(split_metrics)\n",
    "\n",
    "    # Concatenate all split metrics into a DataFrame\n",
    "    metrics_df = pd.concat(all_metrics)\n",
    "\n",
    "    # Calculate mean and standard deviation for each metric\n",
    "    statistics = {\n",
    "        \"mean\": metrics_df.mean() * 100,\n",
    "        \"std_dev\": metrics_df.std() * 100\n",
    "    }\n",
    "\n",
    "    return statistics\n",
    "\n",
    "def get_valid_subfolders(directory):\n",
    "    return sorted([f for f in os.listdir(directory) if os.path.isdir(os.path.join(directory, f)) and not f.startswith('.')])"
   ]
  },
  {
   "cell_type": "markdown",
   "id": "5f9c12ce-8cb9-4c44-8181-6663d7181f02",
   "metadata": {},
   "source": [
    "# Results"
   ]
  },
  {
   "cell_type": "code",
   "execution_count": 3,
   "id": "52ed25ee-b9ed-41cf-af96-fc934a3d33ed",
   "metadata": {},
   "outputs": [],
   "source": [
    "# models = [\"./MLP\", \"./GRU\", \"./JHF\", \"./FHSI\", \"./LFLR\", \"./LFCO\"]\n",
    "models = [\"./MLP\", \"./JHF\", \"./GRU\", './LFCO', './FHSI', './LFLR']\n",
    "\n",
    "results_list = []\n",
    "\n",
    "for model in models:\n",
    "    result_subfolders = get_valid_subfolders(model)\n",
    "    \n",
    "    for result_folder in result_subfolders:\n",
    "        result_path = os.path.join(model, result_folder)\n",
    "\n",
    "        try:\n",
    "            statistics = calculate_statistics(result_path)\n",
    "            mean = statistics[\"mean\"]\n",
    "            std_dev = statistics[\"std_dev\"]\n",
    "            row = {\n",
    "                \"Model\": f\"{os.path.basename(model)}_{result_folder}\",\n",
    "                \"Accuracy\": f\"{mean['accuracy']:.2f} ± {std_dev['accuracy']:.2f}\",\n",
    "                \"Specificity\": f\"{mean['specificity']:.2f} ± {std_dev['specificity']:.2f}\",\n",
    "                \"Sensitivity\": f\"{mean['recall']:.2f} ± {std_dev['recall']:.2f}\",\n",
    "                \"ROC AUC\": f\"{mean['roc_auc']:.2f} ± {std_dev['roc_auc']:.2f}\"\n",
    "            }\n",
    "            \n",
    "            results_list.append(row)\n",
    "        \n",
    "        except FileNotFoundError as e:\n",
    "            print(e)\n",
    "\n",
    "results_df = pd.DataFrame(results_list)\n",
    "results_df = results_df.sort_values(by=\"Model\").reset_index(drop=True)"
   ]
  },
  {
   "cell_type": "code",
   "execution_count": 4,
   "id": "fb3bd2c2-72be-4431-90e1-036180fbc2fc",
   "metadata": {},
   "outputs": [
    {
     "data": {
      "text/html": [
       "<div>\n",
       "<style scoped>\n",
       "    .dataframe tbody tr th:only-of-type {\n",
       "        vertical-align: middle;\n",
       "    }\n",
       "\n",
       "    .dataframe tbody tr th {\n",
       "        vertical-align: top;\n",
       "    }\n",
       "\n",
       "    .dataframe thead th {\n",
       "        text-align: right;\n",
       "    }\n",
       "</style>\n",
       "<table border=\"1\" class=\"dataframe\">\n",
       "  <thead>\n",
       "    <tr style=\"text-align: right;\">\n",
       "      <th></th>\n",
       "      <th>Model</th>\n",
       "      <th>Accuracy</th>\n",
       "      <th>Specificity</th>\n",
       "      <th>Sensitivity</th>\n",
       "      <th>ROC AUC</th>\n",
       "    </tr>\n",
       "  </thead>\n",
       "  <tbody>\n",
       "    <tr>\n",
       "      <th>0</th>\n",
       "      <td>FHSI_Results_FHSI-3MTS-3Features</td>\n",
       "      <td>69.41 ± 0.60</td>\n",
       "      <td>68.61 ± 0.61</td>\n",
       "      <td>72.54 ± 0.99</td>\n",
       "      <td>74.67 ± 0.96</td>\n",
       "    </tr>\n",
       "    <tr>\n",
       "      <th>1</th>\n",
       "      <td>FHSI_Results_FHSI-4MTS-3Features</td>\n",
       "      <td>71.47 ± 0.46</td>\n",
       "      <td>70.59 ± 0.20</td>\n",
       "      <td>74.96 ± 1.71</td>\n",
       "      <td>76.49 ± 2.25</td>\n",
       "    </tr>\n",
       "    <tr>\n",
       "      <th>2</th>\n",
       "      <td>FHSI_Results_FHSI-5MTS-3Features</td>\n",
       "      <td>69.57 ± 3.39</td>\n",
       "      <td>69.01 ± 4.95</td>\n",
       "      <td>71.89 ± 3.31</td>\n",
       "      <td>76.90 ± 3.10</td>\n",
       "    </tr>\n",
       "    <tr>\n",
       "      <th>3</th>\n",
       "      <td>GRU_Results_GRU-3MTS</td>\n",
       "      <td>71.68 ± 2.36</td>\n",
       "      <td>73.00 ± 3.82</td>\n",
       "      <td>66.28 ± 4.64</td>\n",
       "      <td>73.42 ± 1.40</td>\n",
       "    </tr>\n",
       "    <tr>\n",
       "      <th>4</th>\n",
       "      <td>GRU_Results_GRU-4MTS</td>\n",
       "      <td>67.46 ± 4.31</td>\n",
       "      <td>66.96 ± 5.68</td>\n",
       "      <td>69.17 ± 3.21</td>\n",
       "      <td>71.86 ± 1.85</td>\n",
       "    </tr>\n",
       "    <tr>\n",
       "      <th>5</th>\n",
       "      <td>GRU_Results_GRU-5MTS</td>\n",
       "      <td>69.25 ± 1.35</td>\n",
       "      <td>69.86 ± 0.59</td>\n",
       "      <td>67.03 ± 4.62</td>\n",
       "      <td>72.47 ± 1.56</td>\n",
       "    </tr>\n",
       "    <tr>\n",
       "      <th>6</th>\n",
       "      <td>JHF_Results_JHF-3MTS-3Features</td>\n",
       "      <td>69.04 ± 2.72</td>\n",
       "      <td>68.85 ± 5.11</td>\n",
       "      <td>70.29 ± 7.68</td>\n",
       "      <td>75.14 ± 1.47</td>\n",
       "    </tr>\n",
       "    <tr>\n",
       "      <th>7</th>\n",
       "      <td>JHF_Results_JHF-4MTS-3Features</td>\n",
       "      <td>69.67 ± 3.21</td>\n",
       "      <td>70.25 ± 5.27</td>\n",
       "      <td>67.85 ± 5.45</td>\n",
       "      <td>74.30 ± 0.65</td>\n",
       "    </tr>\n",
       "    <tr>\n",
       "      <th>8</th>\n",
       "      <td>JHF_Results_JHF-5MTS-3Features</td>\n",
       "      <td>69.67 ± 0.71</td>\n",
       "      <td>70.12 ± 1.02</td>\n",
       "      <td>67.91 ± 1.17</td>\n",
       "      <td>73.69 ± 0.42</td>\n",
       "    </tr>\n",
       "    <tr>\n",
       "      <th>9</th>\n",
       "      <td>LFCO_Results_LFCO-3MTS-3Features</td>\n",
       "      <td>57.86 ± 3.09</td>\n",
       "      <td>55.88 ± 3.39</td>\n",
       "      <td>65.66 ± 3.63</td>\n",
       "      <td>65.56 ± 2.36</td>\n",
       "    </tr>\n",
       "    <tr>\n",
       "      <th>10</th>\n",
       "      <td>LFCO_Results_LFCO-4MTS-3Features</td>\n",
       "      <td>60.55 ± 5.39</td>\n",
       "      <td>59.07 ± 7.65</td>\n",
       "      <td>65.94 ± 4.60</td>\n",
       "      <td>65.23 ± 2.73</td>\n",
       "    </tr>\n",
       "    <tr>\n",
       "      <th>11</th>\n",
       "      <td>LFCO_Results_LFCO-5MTS-3Features</td>\n",
       "      <td>55.33 ± 2.32</td>\n",
       "      <td>51.97 ± 2.21</td>\n",
       "      <td>68.59 ± 1.91</td>\n",
       "      <td>66.12 ± 2.35</td>\n",
       "    </tr>\n",
       "    <tr>\n",
       "      <th>12</th>\n",
       "      <td>LFLR_Results_LFLR-3MTS-3Features</td>\n",
       "      <td>70.09 ± 0.88</td>\n",
       "      <td>70.92 ± 0.98</td>\n",
       "      <td>66.93 ± 2.27</td>\n",
       "      <td>75.86 ± 0.76</td>\n",
       "    </tr>\n",
       "    <tr>\n",
       "      <th>13</th>\n",
       "      <td>LFLR_Results_LFLR-4MTS-3Features</td>\n",
       "      <td>70.41 ± 0.42</td>\n",
       "      <td>71.00 ± 1.60</td>\n",
       "      <td>68.30 ± 4.07</td>\n",
       "      <td>75.86 ± 0.96</td>\n",
       "    </tr>\n",
       "    <tr>\n",
       "      <th>14</th>\n",
       "      <td>LFLR_Results_LFLR-5MTS-3Features</td>\n",
       "      <td>69.88 ± 0.66</td>\n",
       "      <td>71.33 ± 1.17</td>\n",
       "      <td>64.53 ± 7.04</td>\n",
       "      <td>75.01 ± 0.87</td>\n",
       "    </tr>\n",
       "    <tr>\n",
       "      <th>15</th>\n",
       "      <td>MLP_Results_MLP-3Features</td>\n",
       "      <td>55.17 ± 2.40</td>\n",
       "      <td>52.46 ± 4.39</td>\n",
       "      <td>65.56 ± 6.74</td>\n",
       "      <td>63.07 ± 0.76</td>\n",
       "    </tr>\n",
       "    <tr>\n",
       "      <th>16</th>\n",
       "      <td>MLP_Results_MLP-4Features</td>\n",
       "      <td>52.64 ± 5.17</td>\n",
       "      <td>49.09 ± 9.44</td>\n",
       "      <td>65.86 ± 11.24</td>\n",
       "      <td>62.34 ± 1.34</td>\n",
       "    </tr>\n",
       "    <tr>\n",
       "      <th>17</th>\n",
       "      <td>MLP_Results_MLP-5Features</td>\n",
       "      <td>56.43 ± 2.70</td>\n",
       "      <td>55.53 ± 5.27</td>\n",
       "      <td>60.00 ± 7.78</td>\n",
       "      <td>62.16 ± 1.59</td>\n",
       "    </tr>\n",
       "  </tbody>\n",
       "</table>\n",
       "</div>"
      ],
      "text/plain": [
       "                               Model      Accuracy   Specificity  \\\n",
       "0   FHSI_Results_FHSI-3MTS-3Features  69.41 ± 0.60  68.61 ± 0.61   \n",
       "1   FHSI_Results_FHSI-4MTS-3Features  71.47 ± 0.46  70.59 ± 0.20   \n",
       "2   FHSI_Results_FHSI-5MTS-3Features  69.57 ± 3.39  69.01 ± 4.95   \n",
       "3               GRU_Results_GRU-3MTS  71.68 ± 2.36  73.00 ± 3.82   \n",
       "4               GRU_Results_GRU-4MTS  67.46 ± 4.31  66.96 ± 5.68   \n",
       "5               GRU_Results_GRU-5MTS  69.25 ± 1.35  69.86 ± 0.59   \n",
       "6     JHF_Results_JHF-3MTS-3Features  69.04 ± 2.72  68.85 ± 5.11   \n",
       "7     JHF_Results_JHF-4MTS-3Features  69.67 ± 3.21  70.25 ± 5.27   \n",
       "8     JHF_Results_JHF-5MTS-3Features  69.67 ± 0.71  70.12 ± 1.02   \n",
       "9   LFCO_Results_LFCO-3MTS-3Features  57.86 ± 3.09  55.88 ± 3.39   \n",
       "10  LFCO_Results_LFCO-4MTS-3Features  60.55 ± 5.39  59.07 ± 7.65   \n",
       "11  LFCO_Results_LFCO-5MTS-3Features  55.33 ± 2.32  51.97 ± 2.21   \n",
       "12  LFLR_Results_LFLR-3MTS-3Features  70.09 ± 0.88  70.92 ± 0.98   \n",
       "13  LFLR_Results_LFLR-4MTS-3Features  70.41 ± 0.42  71.00 ± 1.60   \n",
       "14  LFLR_Results_LFLR-5MTS-3Features  69.88 ± 0.66  71.33 ± 1.17   \n",
       "15         MLP_Results_MLP-3Features  55.17 ± 2.40  52.46 ± 4.39   \n",
       "16         MLP_Results_MLP-4Features  52.64 ± 5.17  49.09 ± 9.44   \n",
       "17         MLP_Results_MLP-5Features  56.43 ± 2.70  55.53 ± 5.27   \n",
       "\n",
       "      Sensitivity       ROC AUC  \n",
       "0    72.54 ± 0.99  74.67 ± 0.96  \n",
       "1    74.96 ± 1.71  76.49 ± 2.25  \n",
       "2    71.89 ± 3.31  76.90 ± 3.10  \n",
       "3    66.28 ± 4.64  73.42 ± 1.40  \n",
       "4    69.17 ± 3.21  71.86 ± 1.85  \n",
       "5    67.03 ± 4.62  72.47 ± 1.56  \n",
       "6    70.29 ± 7.68  75.14 ± 1.47  \n",
       "7    67.85 ± 5.45  74.30 ± 0.65  \n",
       "8    67.91 ± 1.17  73.69 ± 0.42  \n",
       "9    65.66 ± 3.63  65.56 ± 2.36  \n",
       "10   65.94 ± 4.60  65.23 ± 2.73  \n",
       "11   68.59 ± 1.91  66.12 ± 2.35  \n",
       "12   66.93 ± 2.27  75.86 ± 0.76  \n",
       "13   68.30 ± 4.07  75.86 ± 0.96  \n",
       "14   64.53 ± 7.04  75.01 ± 0.87  \n",
       "15   65.56 ± 6.74  63.07 ± 0.76  \n",
       "16  65.86 ± 11.24  62.34 ± 1.34  \n",
       "17   60.00 ± 7.78  62.16 ± 1.59  "
      ]
     },
     "execution_count": 4,
     "metadata": {},
     "output_type": "execute_result"
    }
   ],
   "source": [
    "results_df"
   ]
  },
  {
   "cell_type": "code",
   "execution_count": 5,
   "id": "d2454243-40df-42bc-9590-815858b410ce",
   "metadata": {},
   "outputs": [
    {
     "data": {
      "text/plain": [
       "'71.68 ± 2.36'"
      ]
     },
     "execution_count": 5,
     "metadata": {},
     "output_type": "execute_result"
    }
   ],
   "source": [
    "results_df['Accuracy'].max()"
   ]
  },
  {
   "cell_type": "code",
   "execution_count": 6,
   "id": "58c60679-018b-49d5-b892-d9b3785d32d2",
   "metadata": {},
   "outputs": [
    {
     "data": {
      "text/plain": [
       "'73.00 ± 3.82'"
      ]
     },
     "execution_count": 6,
     "metadata": {},
     "output_type": "execute_result"
    }
   ],
   "source": [
    "results_df['Specificity'].max()"
   ]
  },
  {
   "cell_type": "code",
   "execution_count": 7,
   "id": "b2286ed9-2782-401b-8fad-68dfd1b07109",
   "metadata": {},
   "outputs": [
    {
     "data": {
      "text/plain": [
       "'74.96 ± 1.71'"
      ]
     },
     "execution_count": 7,
     "metadata": {},
     "output_type": "execute_result"
    }
   ],
   "source": [
    "results_df['Sensitivity'].max()"
   ]
  },
  {
   "cell_type": "code",
   "execution_count": 8,
   "id": "6d47e3c4-fd21-4dbc-ad82-a57a7c6b6d1c",
   "metadata": {},
   "outputs": [
    {
     "data": {
      "text/plain": [
       "'76.90 ± 3.10'"
      ]
     },
     "execution_count": 8,
     "metadata": {},
     "output_type": "execute_result"
    }
   ],
   "source": [
    "results_df['ROC AUC'].max()"
   ]
  },
  {
   "cell_type": "code",
   "execution_count": 9,
   "id": "dee0f84a-01e5-4f83-8f99-bf54594a5d52",
   "metadata": {},
   "outputs": [
    {
     "name": "stdout",
     "output_type": "stream",
     "text": [
      "Mean of the values:\n",
      "Accuracy_Mean       65.310000\n",
      "Specificity_Mean    64.694444\n",
      "Sensitivity_Mean    67.738333\n",
      "ROC AUC_Mean        71.119444\n",
      "dtype: float64\n",
      "\n",
      "Mean of the standard deviations:\n",
      "Accuracy_StdDev       2.341111\n",
      "Specificity_StdDev    3.519444\n",
      "Sensitivity_StdDev    4.558889\n",
      "ROC AUC_StdDev        1.521111\n",
      "dtype: float64\n"
     ]
    }
   ],
   "source": [
    "for col in ['Accuracy', 'Specificity', 'Sensitivity', 'ROC AUC']:\n",
    "    results_df[[f'{col}_Mean', f'{col}_StdDev']] = results_df[col].str.split(' ± ', expand=True).astype(float)\n",
    "\n",
    "mean_values = results_df[[f'{col}_Mean' for col in ['Accuracy', 'Specificity', 'Sensitivity', 'ROC AUC']]].mean()\n",
    "mean_stddevs = results_df[[f'{col}_StdDev' for col in ['Accuracy', 'Specificity', 'Sensitivity', 'ROC AUC']]].mean()\n",
    "\n",
    "print(\"Mean of the values:\")\n",
    "print(mean_values)\n",
    "print(\"\\nMean of the standard deviations:\")\n",
    "print(mean_stddevs)"
   ]
  },
  {
   "cell_type": "code",
   "execution_count": null,
   "id": "6b205631-2dd7-463d-b2a3-ce0014175ee8",
   "metadata": {},
   "outputs": [],
   "source": []
  }
 ],
 "metadata": {
  "kernelspec": {
   "display_name": "Python 3 (ipykernel)",
   "language": "python",
   "name": "python3"
  },
  "language_info": {
   "codemirror_mode": {
    "name": "ipython",
    "version": 3
   },
   "file_extension": ".py",
   "mimetype": "text/x-python",
   "name": "python",
   "nbconvert_exporter": "python",
   "pygments_lexer": "ipython3",
   "version": "3.8.10"
  }
 },
 "nbformat": 4,
 "nbformat_minor": 5
}
