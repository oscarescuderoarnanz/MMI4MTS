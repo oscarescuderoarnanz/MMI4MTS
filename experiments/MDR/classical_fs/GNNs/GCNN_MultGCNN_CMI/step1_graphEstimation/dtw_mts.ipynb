{
 "cells": [
  {
   "cell_type": "code",
   "execution_count": null,
   "id": "2b4a7c5f",
   "metadata": {},
   "outputs": [],
   "source": [
    "import pandas as pd\n",
    "import numpy as np\n",
    "import matplotlib.pyplot as plt\n",
    "from joblib import Parallel, delayed\n",
    "\n",
    "import warnings\n",
    "warnings.filterwarnings(\"ignore\")\n",
    "import random\n",
    "\n",
    "import dtw\n",
    "\n",
    "numberOfTimeStep = 14"
   ]
  },
  {
   "cell_type": "markdown",
   "id": "ba3ef6eb",
   "metadata": {},
   "source": [
    "## Features"
   ]
  },
  {
   "cell_type": "code",
   "execution_count": null,
   "id": "c150a618",
   "metadata": {},
   "outputs": [],
   "source": [
    "folders = [\"s1\", \"s2\", \"s3\", \"s4\"]\n",
    "\n",
    "keys = ['neighbor_QUI', 'neighbor_CAR', 'neighbor_PAP', 'neighbor_OXA', \n",
    "        'numberOfPatients', 'neighbor_CF3', 'neighbor_PEN']\n",
    "\n",
    "binary = []\n",
    "\n",
    "continuous =  [variable for variable in keys if variable not in binary]"
   ]
  },
  {
   "cell_type": "markdown",
   "id": "676c01a3",
   "metadata": {},
   "source": [
    "## Correlations between variables\n",
    "- B-B: Phi \n",
    "- C-C: Pearson\n",
    "- B-C: Point Biserial"
   ]
  },
  {
   "cell_type": "code",
   "execution_count": null,
   "id": "ac02ddce",
   "metadata": {},
   "outputs": [],
   "source": [
    "for c in range(len(folders)):\n",
    "\n",
    "    ########################\n",
    "    ###### PARAMETERS ######\n",
    "    ########################\n",
    "    numberOfTimeStep = 14\n",
    "    ########################\n",
    "\n",
    "    ####### BEGIN CODE ===>>\n",
    "    # Load data\n",
    "    X_train = np.load(\"../../../../../../ORIGINAL_DATA/MDR/splits_14_days/cmi/split_\" + str(c) +\n",
    "                          \"/X_train_tensor_\" + str(0)+ \".npy\")\n",
    "\n",
    "\n",
    "    X_val = np.load(\"../../../../../../ORIGINAL_DATA/MDR/splits_14_days/cmi/split_\" + str(c) +\n",
    "                        \"/X_val_tensor_\" + str(0)+ \".npy\")\n",
    "    X_train = np.concatenate((X_train, X_val), axis=0)\n",
    "    \n",
    "    # Reshape data by features --> PxTxF to FxTxP\n",
    "    X_train = dtw.reshape_patients_by_features(X_train, keys, numberOfTimeStep)\n",
    "    \n",
    "    print(\"X_train shape after reshape:\", X_train.shape)\n",
    "    \n",
    "    # Compute Heterogeneous Gower Distance\n",
    "    result = Parallel(n_jobs=-1)(\n",
    "        delayed(dtw.compute_hgd_matrix)(X_train, X_train[f1, :, :], X_train[f2, :, :], keys[f1], keys[f2], binary, continuous)\n",
    "        for f1 in range(X_train.shape[0]) for f2 in range(X_train.shape[0])\n",
    "    )\n",
    "    \n",
    "    # Replace NaNs with zero\n",
    "    lista_sin_nan = dtw.replace_nan_with_zero(result)\n",
    "    \n",
    "    # Compute DTW distance based on HGD matrix\n",
    "    dtw_matrix_train = Parallel(n_jobs=96)(\n",
    "        delayed(dtw.compute_new_dtw)(lista_sin_nan[i])\n",
    "        for i in range(X_train.shape[0] * X_train.shape[0])\n",
    "    )\n",
    "\n",
    "    data = np.array(dtw_matrix_train).reshape((X_train.shape[0], X_train.shape[0]))\n",
    "    \n",
    "    # Save the results as CSV\n",
    "    pd.DataFrame(data, columns=keys, index=keys).to_csv(\"./estimatedGraphs/dtw/\" + folders[c] + \"/X_train_allMTS\"+ \".csv\", index=False)\n"
   ]
  },
  {
   "cell_type": "code",
   "execution_count": null,
   "id": "8705cf3a",
   "metadata": {},
   "outputs": [],
   "source": []
  }
 ],
 "metadata": {
  "kernelspec": {
   "display_name": "Python 3 (ipykernel)",
   "language": "python",
   "name": "python3"
  },
  "language_info": {
   "codemirror_mode": {
    "name": "ipython",
    "version": 3
   },
   "file_extension": ".py",
   "mimetype": "text/x-python",
   "name": "python",
   "nbconvert_exporter": "python",
   "pygments_lexer": "ipython3",
   "version": "3.8.10"
  }
 },
 "nbformat": 4,
 "nbformat_minor": 5
}
