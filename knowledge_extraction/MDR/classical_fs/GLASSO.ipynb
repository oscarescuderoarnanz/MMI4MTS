{
 "cells": [
  {
   "cell_type": "code",
   "execution_count": 1,
   "id": "a3486ed4-70d2-4966-a12f-b8690c65b5b3",
   "metadata": {},
   "outputs": [],
   "source": [
    "import warnings\n",
    "warnings.filterwarnings(\"ignore\")\n",
    "\n",
    "import numpy as np\n",
    "import numpy.linalg as la\n",
    "from numpy import log\n",
    "from scipy.special import digamma\n",
    "from sklearn.neighbors import BallTree, KDTree\n",
    "import sklearn\n",
    "\n",
    "import sys\n",
    "import os\n",
    "import matplotlib.pyplot as plt\n",
    "from group_lasso import LogisticGroupLasso\n",
    "import pandas as pd\n",
    "import sklearn\n",
    "\n",
    "os.environ['TF_CPP_MIN_LOG_LEVEL'] = '2'\n",
    "\n",
    "from group_lasso import LogisticGroupLasso"
   ]
  },
  {
   "cell_type": "code",
   "execution_count": 2,
   "id": "8cc8de39-6632-4a14-9e64-b5b6225870b0",
   "metadata": {},
   "outputs": [],
   "source": [
    "def one_hot_encoder(X_static):\n",
    "    X_static = pd.concat(\n",
    "        [\n",
    "            X_static[[\"Age\", \"Gender\", \"SAPSIIIScore\", \"MonthOfAdmission\", \"YearOfAdmission\"]], \n",
    "            pd.get_dummies(X_static.Origin, prefix='Origin'), \n",
    "            pd.get_dummies(X_static.ReasonAdmission, prefix='ReasonAdmission'), \n",
    "            pd.get_dummies(X_static.PatientCategory, prefix='PatientCategory')\n",
    "        ],\n",
    "        axis=1\n",
    "    )\n",
    "    \n",
    "    return X_static"
   ]
  },
  {
   "cell_type": "markdown",
   "id": "a2d4d3c8-26ab-48f3-9088-0aac682f246a",
   "metadata": {},
   "source": [
    "# GLASSO - Dynamic"
   ]
  },
  {
   "cell_type": "code",
   "execution_count": 3,
   "id": "2168b3ee-dbc6-4478-8d6b-6f50299dc0f9",
   "metadata": {},
   "outputs": [],
   "source": [
    "i = 0\n",
    "n = 4\n",
    "\n",
    "X_train = np.load(\"../../../ORIGINAL_DATA/MDR/splits_14_days/notbalanced/split_\" + str(i) + \"/X_train_tensor_\" + str(n)+ \".npy\")\n",
    "\n",
    "y_train = pd.read_csv(\"../../../ORIGINAL_DATA/MDR/splits_14_days/notbalanced/split_\" + str(i) + \"/y_train_\" + str(n)+ \".csv\", index_col=0)\n",
    "\n",
    "X_val = np.load(\"../../../ORIGINAL_DATA/MDR/splits_14_days/notbalanced/split_\" + str(i) + \"/X_val_tensor_\" + str(n)+ \".npy\")\n",
    "\n",
    "y_val = pd.read_csv(\"../../../ORIGINAL_DATA/MDR/splits_14_days/notbalanced/split_\" + str(i) + \"/y_val_\" + str(n)+ \".csv\", index_col=0)\n",
    "\n",
    "\n",
    "X = np.concatenate([X_train, X_val], axis=0)\n",
    "y = y_train.append(y_val)"
   ]
  },
  {
   "cell_type": "code",
   "execution_count": 4,
   "id": "a8352a98-7f5e-4181-b421-9f135d25b878",
   "metadata": {},
   "outputs": [
    {
     "name": "stdout",
     "output_type": "stream",
     "text": [
      "[ 1.  1.  1.  1.  1.  1.  1.  1.  1.  1.  1.  1.  1.  1.  2.  2.  2.  2.\n",
      "  2.  2.  2.  2.  2.  2.  2.  2.  2.  2.  3.  3.  3.  3.  3.  3.  3.  3.\n",
      "  3.  3.  3.  3.  3.  3.  4.  4.  4.  4.  4.  4.  4.  4.  4.  4.  4.  4.\n",
      "  4.  4.  5.  5.  5.  5.  5.  5.  5.  5.  5.  5.  5.  5.  5.  5.  6.  6.\n",
      "  6.  6.  6.  6.  6.  6.  6.  6.  6.  6.  6.  6.  7.  7.  7.  7.  7.  7.\n",
      "  7.  7.  7.  7.  7.  7.  7.  7.  8.  8.  8.  8.  8.  8.  8.  8.  8.  8.\n",
      "  8.  8.  8.  8.  9.  9.  9.  9.  9.  9.  9.  9.  9.  9.  9.  9.  9.  9.\n",
      " 10. 10. 10. 10. 10. 10. 10. 10. 10. 10. 10. 10. 10. 10. 11. 11. 11. 11.\n",
      " 11. 11. 11. 11. 11. 11. 11. 11. 11. 11. 12. 12. 12. 12. 12. 12. 12. 12.\n",
      " 12. 12. 12. 12. 12. 12. 13. 13. 13. 13. 13. 13. 13. 13. 13. 13. 13. 13.\n",
      " 13. 13. 14. 14. 14. 14. 14. 14. 14. 14. 14. 14. 14. 14. 14. 14. 15. 15.\n",
      " 15. 15. 15. 15. 15. 15. 15. 15. 15. 15. 15. 15. 16. 16. 16. 16. 16. 16.\n",
      " 16. 16. 16. 16. 16. 16. 16. 16. 17. 17. 17. 17. 17. 17. 17. 17. 17. 17.\n",
      " 17. 17. 17. 17. 18. 18. 18. 18. 18. 18. 18. 18. 18. 18. 18. 18. 18. 18.\n",
      " 19. 19. 19. 19. 19. 19. 19. 19. 19. 19. 19. 19. 19. 19. 20. 20. 20. 20.\n",
      " 20. 20. 20. 20. 20. 20. 20. 20. 20. 20. 21. 21. 21. 21. 21. 21. 21. 21.\n",
      " 21. 21. 21. 21. 21. 21. 22. 22. 22. 22. 22. 22. 22. 22. 22. 22. 22. 22.\n",
      " 22. 22. 23. 23. 23. 23. 23. 23. 23. 23. 23. 23. 23. 23. 23. 23. 24. 24.\n",
      " 24. 24. 24. 24. 24. 24. 24. 24. 24. 24. 24. 24. 25. 25. 25. 25. 25. 25.\n",
      " 25. 25. 25. 25. 25. 25. 25. 25. 26. 26. 26. 26. 26. 26. 26. 26. 26. 26.\n",
      " 26. 26. 26. 26. 27. 27. 27. 27. 27. 27. 27. 27. 27. 27. 27. 27. 27. 27.\n",
      " 28. 28. 28. 28. 28. 28. 28. 28. 28. 28. 28. 28. 28. 28. 29. 29. 29. 29.\n",
      " 29. 29. 29. 29. 29. 29. 29. 29. 29. 29. 30. 30. 30. 30. 30. 30. 30. 30.\n",
      " 30. 30. 30. 30. 30. 30. 31. 31. 31. 31. 31. 31. 31. 31. 31. 31. 31. 31.\n",
      " 31. 31. 32. 32. 32. 32. 32. 32. 32. 32. 32. 32. 32. 32. 32. 32. 33. 33.\n",
      " 33. 33. 33. 33. 33. 33. 33. 33. 33. 33. 33. 33. 34. 34. 34. 34. 34. 34.\n",
      " 34. 34. 34. 34. 34. 34. 34. 34. 35. 35. 35. 35. 35. 35. 35. 35. 35. 35.\n",
      " 35. 35. 35. 35. 36. 36. 36. 36. 36. 36. 36. 36. 36. 36. 36. 36. 36. 36.\n",
      " 37. 37. 37. 37. 37. 37. 37. 37. 37. 37. 37. 37. 37. 37. 38. 38. 38. 38.\n",
      " 38. 38. 38. 38. 38. 38. 38. 38. 38. 38. 39. 39. 39. 39. 39. 39. 39. 39.\n",
      " 39. 39. 39. 39. 39. 39. 40. 40. 40. 40. 40. 40. 40. 40. 40. 40. 40. 40.\n",
      " 40. 40. 41. 41. 41. 41. 41. 41. 41. 41. 41. 41. 41. 41. 41. 41. 42. 42.\n",
      " 42. 42. 42. 42. 42. 42. 42. 42. 42. 42. 42. 42. 43. 43. 43. 43. 43. 43.\n",
      " 43. 43. 43. 43. 43. 43. 43. 43. 44. 44. 44. 44. 44. 44. 44. 44. 44. 44.\n",
      " 44. 44. 44. 44. 45. 45. 45. 45. 45. 45. 45. 45. 45. 45. 45. 45. 45. 45.\n",
      " 46. 46. 46. 46. 46. 46. 46. 46. 46. 46. 46. 46. 46. 46. 47. 47. 47. 47.\n",
      " 47. 47. 47. 47. 47. 47. 47. 47. 47. 47. 48. 48. 48. 48. 48. 48. 48. 48.\n",
      " 48. 48. 48. 48. 48. 48. 49. 49. 49. 49. 49. 49. 49. 49. 49. 49. 49. 49.\n",
      " 49. 49. 50. 50. 50. 50. 50. 50. 50. 50. 50. 50. 50. 50. 50. 50. 51. 51.\n",
      " 51. 51. 51. 51. 51. 51. 51. 51. 51. 51. 51. 51. 52. 52. 52. 52. 52. 52.\n",
      " 52. 52. 52. 52. 52. 52. 52. 52. 53. 53. 53. 53. 53. 53. 53. 53. 53. 53.\n",
      " 53. 53. 53. 53. 54. 54. 54. 54. 54. 54. 54. 54. 54. 54. 54. 54. 54. 54.\n",
      " 55. 55. 55. 55. 55. 55. 55. 55. 55. 55. 55. 55. 55. 55. 56. 56. 56. 56.\n",
      " 56. 56. 56. 56. 56. 56. 56. 56. 56. 56.]\n"
     ]
    }
   ],
   "source": [
    "NTimesteps = 14\n",
    "NFeatures = 56\n",
    "groups = np.zeros(NFeatures * NTimesteps)\n",
    "for i in range(NFeatures):\n",
    "    groups[i*NTimesteps:i*NTimesteps + NTimesteps] = i\n",
    "groups = groups + 1 \n",
    "print(groups)"
   ]
  },
  {
   "cell_type": "code",
   "execution_count": 5,
   "id": "f1c0a6a8-7147-4019-aeaf-7782480da60f",
   "metadata": {},
   "outputs": [
    {
     "name": "stdout",
     "output_type": "stream",
     "text": [
      "Best group_reg value: 0.01\n",
      "Best accuracy: 0.8068091844813935\n",
      "Best number of chosen time variables: 219\n",
      "Best number of chosen variables: 15.642857142857142\n"
     ]
    }
   ],
   "source": [
    "v_sparsity_mask = []\n",
    "best_accuracy = 0\n",
    "P, T, F = X.shape\n",
    "X_reshaped = X.reshape(P, T * F)\n",
    "\n",
    "\n",
    "group_reg_values = [0.0025, 0.005, 0.006, 0.0075, 0.01]\n",
    "best_group_reg = None \n",
    "\n",
    "for group_reg in group_reg_values:\n",
    "    gl = LogisticGroupLasso(groups=groups, \n",
    "                            group_reg=group_reg, l1_reg=0,\n",
    "                            n_iter=15000, tol=0, supress_warning=True, random_state=42)\n",
    "\n",
    "    # Fit the model\n",
    "    gl.fit(X_reshaped, y)\n",
    "\n",
    "    # Extract predictions and sparsity mask\n",
    "    pred_y = gl.predict(X_reshaped)\n",
    "    sparsity_mask = gl.sparsity_mask_\n",
    "    \n",
    "    # Compute performance metrics (accuracy in this case)\n",
    "    accuracy = (pred_y == y.individualMRGerm.values).mean()  # Assuming y is a binary classification label\n",
    "    if accuracy > best_accuracy:\n",
    "        best_accuracy = accuracy\n",
    "        best_group_reg = group_reg\n",
    "        best_sparsity_mask = sparsity_mask  \n",
    "        best_w_hat = gl.coef_              \n",
    "    \n",
    "print(f\"Best group_reg value: {best_group_reg}\")\n",
    "print(f\"Best accuracy: {best_accuracy}\")\n",
    "print(f\"Best number of chosen time variables: {best_sparsity_mask.sum()}\")\n",
    "print(f\"Best number of chosen variables: {best_sparsity_mask.sum() / NTimesteps}\")\n"
   ]
  },
  {
   "cell_type": "code",
   "execution_count": 6,
   "id": "65863ec3-4124-4a9c-b1ed-417a64e8ff19",
   "metadata": {},
   "outputs": [],
   "source": [
    "temporaryKeys = [\n",
    "    'AMG', 'ATF', 'CAR', 'CF1', 'CF2', 'CF3', 'CF4', 'Falta', 'GCC', 'GLI', 'LIN', 'LIP', 'MAC', 'MON', 'NTI', \n",
    "    'OTR', 'OXA', 'PAP', 'PEN', 'POL','QUI', 'SUL', 'TTC', \n",
    "    'pc_acinet', 'pc_enterob', 'pc_enteroc', 'pc_pseud', 'pc_staph', 'pc_stenot', 'pc_no_germ',\n",
    "    'isVM',\n",
    "    'numberOfPatients', 'numberOfPatientsMR',\n",
    "    'neighbor_AMG', 'neighbor_ATF', 'neighbor_CAR', \n",
    "    'neighbor_CF1', 'neighbor_CF2', 'neighbor_CF3', 'neighbor_CF4', 'neighbor_Falta',\n",
    "    'neighbor_GCC', 'neighbor_GLI', 'neighbor_LIN',  'neighbor_LIP',\n",
    "    'neighbor_MAC', 'neighbor_MON', 'neighbor_NTI', 'neighbor_OTR', 'neighbor_OXA',\n",
    "    'neighbor_PAP', 'neighbor_PEN', 'neighbor_POL', 'neighbor_QUI', 'neighbor_SUL', \n",
    "    'neighbor_TTC',\n",
    "]\n",
    "\n",
    "keys_2 = []\n",
    "for i in range(len(temporaryKeys)):\n",
    "    keys_2.extend([temporaryKeys[i] + str(s) for s in np.arange(0, 14, 1).tolist()])"
   ]
  },
  {
   "cell_type": "code",
   "execution_count": 7,
   "id": "26d4c841-50e4-4ea3-a5b7-5c34616d9c46",
   "metadata": {},
   "outputs": [],
   "source": [
    "pd.DataFrame(best_sparsity_mask, keys_2).to_csv(\"glasso_results_notbalanced.csv\")"
   ]
  }
 ],
 "metadata": {
  "kernelspec": {
   "display_name": "Python 3 (ipykernel)",
   "language": "python",
   "name": "python3"
  },
  "language_info": {
   "codemirror_mode": {
    "name": "ipython",
    "version": 3
   },
   "file_extension": ".py",
   "mimetype": "text/x-python",
   "name": "python",
   "nbconvert_exporter": "python",
   "pygments_lexer": "ipython3",
   "version": "3.8.10"
  }
 },
 "nbformat": 4,
 "nbformat_minor": 5
}
