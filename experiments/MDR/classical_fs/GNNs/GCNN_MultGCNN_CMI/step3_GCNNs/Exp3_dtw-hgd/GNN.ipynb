{
 "cells": [
  {
   "cell_type": "code",
   "execution_count": null,
   "id": "03e1ab4a-6c8c-4675-a97f-0c0cfe3b3728",
   "metadata": {},
   "outputs": [],
   "source": [
    "import torch\n",
    "import torch.nn.functional as F\n",
    "import torch.nn as nn\n",
    "import numpy as np\n",
    "import pandas as pd\n",
    "import matplotlib.pyplot as plt\n",
    "\n",
    "# My libraries\n",
    "import sys\n",
    "sys.path.append('../')\n",
    "\n",
    "import models\n",
    "import utils"
   ]
  },
  {
   "cell_type": "markdown",
   "id": "f7857e7e-ae03-40e1-b389-0a13b7e506b3",
   "metadata": {},
   "source": [
    "## General parameters"
   ]
  },
  {
   "cell_type": "code",
   "execution_count": null,
   "id": "c2e2654e-a9cc-4201-bdd5-24311c255d74",
   "metadata": {},
   "outputs": [],
   "source": [
    "numberOfTimeStep = 14\n",
    "folders = [\"s1\", \"s2\", \"s3\", \"s4\"]\n",
    "\n",
    "norm = \"robustNorm\"\n",
    "\n",
    "device = torch.device('cuda:0')\n",
    "print(\"Seleccionando la segunda GPU:\", torch.cuda.get_device_name(device))"
   ]
  },
  {
   "cell_type": "markdown",
   "id": "0e1dfb42-6c1b-41bf-a105-3a5f6f5580ae",
   "metadata": {},
   "source": [
    "## Train phase"
   ]
  },
  {
   "cell_type": "code",
   "execution_count": null,
   "id": "41b244c8-cb9c-418f-9f20-317572efe3f5",
   "metadata": {},
   "outputs": [],
   "source": [
    "in_dim_GCN = 1\n",
    "out_dim_GCN = 1\n",
    "\n",
    "# number of max epochs \n",
    "n_epochs = 1000\n",
    "\n",
    "# Early stopping configuration\n",
    "early_stopping_patience = 20\n",
    "\n",
    "# Hyperparameters to be optimized (change this values)\n",
    "\n",
    "h_dropout = [0.15, 0.3, 0.45]\n",
    "h_learning_rate = [1e-4, 1e-3, 1e-2, 5e-2]\n",
    "h_decay = [0, 1e-5, 1e-4, 1e-3, 1e-2, 1e-1]\n",
    "h_hid_lay = [4, 8, 16, 32, 64]\n",
    "h_layers = [2, 4, 6, 7]\n",
    "\n",
    "\n",
    "seed = [0, 5, 70, 59, 15, 99]\n",
    "\n",
    "fc_layer = [[7, out_dim_GCN]]\n",
    "\n",
    "# Parameters to define type of GCNN and type of output.\n",
    "typeGCN = \"standard_gcnn\"\n",
    "K = [93]\n",
    "\n",
    "params = {# Hyperparameters\n",
    "         'h_layers':h_layers, 'n_epochs':n_epochs, \n",
    "          'h_dropout': h_dropout, 'h_learning_rate': h_learning_rate, \n",
    "          'h_decay':h_decay, 'h_hid_lay': h_hid_lay, 'K':K,\n",
    "          'fc_layer': fc_layer,\n",
    "          # seed to set initialization hyperparameters\n",
    "          'seed': seed, \n",
    "          # Type of output GCN\n",
    "          'typeGCN': typeGCN,\n",
    "          # Dimensions of GCN (input/output)\n",
    "          'in_dim_GCN': in_dim_GCN, 'out_dim_GCN': out_dim_GCN,\n",
    "          # Patiente\n",
    "          'early_stopping_patience':early_stopping_patience}"
   ]
  },
  {
   "cell_type": "code",
   "execution_count": null,
   "id": "1e92e1c8-e1a5-4bda-a127-56e7a51faac5",
   "metadata": {},
   "outputs": [],
   "source": [
    "way_to_build_graph = \"dtw\"\n",
    "numberOfFeatures = 7"
   ]
  },
  {
   "cell_type": "code",
   "execution_count": null,
   "id": "4ca03841-f576-462c-a59e-209deba0e1e7",
   "metadata": {},
   "outputs": [],
   "source": [
    "best_result_by_split = {}\n",
    "for carp in range(len(folders)):\n",
    "    torch.cuda.empty_cache()\n",
    "    # Load data\n",
    "    X_train_vec, X_val_vec, X_test_vec, y_train, y_val, y_test = utils.load_data(norm, device, carp, SG=True)\n",
    "    A = pd.read_csv(\"../../step2_graphRepresentation/\"+way_to_build_graph+\"/\"+folders[carp]+\"/graph_Xtr_th_0.975.csv\")\n",
    "    A = torch.tensor(np.array(A), dtype=torch.float32)\n",
    "    \n",
    "        \n",
    "    print(\"X_train_vec:\", X_train_vec.shape)\n",
    "    print(\"X_val_vec:\", X_val_vec.shape)\n",
    "    print(\"X_test_vec:\", X_test_vec.shape)\n",
    "    print(\"y_train:\", y_train.shape)\n",
    "    print(\"y_val:\", y_val.shape)\n",
    "    print(\"y_test:\", y_test.shape)\n",
    "\n",
    "    print(\"===========> TRAIN-VAL PHASE ==================\")\n",
    "    bestHyperparameters = utils.train_val_phase(A, X_train_vec, X_val_vec, y_train, y_val, params, device)\n",
    "    print(\"<========== END TRAIN-VAL PHASE ===============\")\n",
    "    best_result_by_split[folders[carp]] = bestHyperparameters    \n",
    "\n",
    "utils.saveBestHyperparameters(best_result_by_split, \"../hyperparameters/\"+way_to_build_graph+\"/GNN_th_0.975.json\")\n",
    "\n",
    "torch.cuda.empty_cache()"
   ]
  },
  {
   "cell_type": "markdown",
   "id": "2a7aac5c-efb7-4eb0-be06-5d9eb5e666ad",
   "metadata": {},
   "source": [
    "## Validation phase"
   ]
  },
  {
   "cell_type": "code",
   "execution_count": null,
   "id": "e6d4c49e-9a07-4670-b14b-a92098930fc1",
   "metadata": {},
   "outputs": [],
   "source": [
    "best_result_by_split = utils.loadBestHyperparameters(\"../hyperparameters/\"+way_to_build_graph+\"/GNN_th_0.975.json\")\n",
    "\n",
    "typeOfGraph = \"ProdGraph\"\n",
    "path_A = \"graph_Xtr_th_0.975.csv\"\n",
    "results, importance_nodes, fc_classifiers, gnn_models = utils.val_model(best_result_by_split, typeOfGraph, params, folders, \\\n",
    "                                                                        norm, device, path_A, way_to_build_graph, SG=True)\n",
    "\n",
    "keys = list(results.keys())\n",
    "for c in range(len(folders)):\n",
    "    print(\"================= SPLIT \" + str(folders[c]) + \" ===================\")\n",
    "    print(keys[1] + \": \" + str(np.round(results[keys[1]][c]*100,2)))\n",
    "    print(keys[2] + \": \" + str(np.round(results[keys[2]][c]*100,2)))\n",
    "    print(keys[3] + \": \" + str(np.round(results[keys[3]][c]*100,2)))\n",
    "    \n",
    "print()\n",
    "filtered_results = {\n",
    "    key: results[key][1:]  \n",
    "    for key in keys\n",
    "}\n",
    "\n",
    "\n",
    "formatted_results = {\"Model\": \"./Results_GCNN\"}\n",
    "\n",
    "column_names = [\"Accuracy\", \"ROC AUC\", \"Sensitivity\", \"Specificity\"]\n",
    "\n",
    "for i, key in enumerate(keys[:4]):  \n",
    "    average = np.mean(filtered_results[key])\n",
    "    std = np.std(filtered_results[key])\n",
    "    formatted_results[column_names[i]] = f\"{np.round(average * 100, 2)} ± {np.round(std * 100, 2)}\"\n",
    "\n",
    "df = pd.DataFrame([formatted_results])\n",
    "\n",
    "\n",
    "output_path = \"../../../Results_GCNN-CMI/results.csv\"\n",
    "df.to_csv(output_path, index=False)\n",
    "\n",
    "print(f\"Results saved to {output_path}\")\n",
    "\n",
    "torch.cuda.empty_cache()"
   ]
  }
 ],
 "metadata": {
  "kernelspec": {
   "display_name": "Python 3 (ipykernel)",
   "language": "python",
   "name": "python3"
  },
  "language_info": {
   "codemirror_mode": {
    "name": "ipython",
    "version": 3
   },
   "file_extension": ".py",
   "mimetype": "text/x-python",
   "name": "python",
   "nbconvert_exporter": "python",
   "pygments_lexer": "ipython3",
   "version": "3.8.10"
  }
 },
 "nbformat": 4,
 "nbformat_minor": 5
}
