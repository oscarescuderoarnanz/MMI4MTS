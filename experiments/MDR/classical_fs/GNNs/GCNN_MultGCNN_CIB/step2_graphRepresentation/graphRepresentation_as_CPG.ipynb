{
 "cells": [
  {
   "cell_type": "code",
   "execution_count": 1,
   "id": "f16984d6",
   "metadata": {},
   "outputs": [],
   "source": [
    "import pandas as pd\n",
    "import numpy as np\n",
    "\n",
    "from scipy.sparse import kronsum\n",
    "\n",
    "import matplotlib.pyplot as plt\n",
    "from matplotlib.pyplot import figure, text\n",
    "import networkx as nx"
   ]
  },
  {
   "cell_type": "markdown",
   "id": "0c25bf84",
   "metadata": {},
   "source": [
    "## Generic functions"
   ]
  },
  {
   "cell_type": "code",
   "execution_count": 2,
   "id": "95512461",
   "metadata": {},
   "outputs": [],
   "source": [
    "def exp_kernel(train, sigma):\n",
    "    \"\"\"\n",
    "    Computes the exponential kernel matrix for the given data and sigma.\n",
    "    \n",
    "    Parameters:\n",
    "    train (np.array or pd.DataFrame): The input data matrix.\n",
    "    sigma (float): The kernel bandwidth parameter.\n",
    "    \n",
    "    Returns:\n",
    "    pd.DataFrame: The computed kernel matrix, rounded to 6 decimal places.\n",
    "    \"\"\"\n",
    "    matrix_train = np.exp(-(train**2) / (2 * (sigma**2)))\n",
    "\n",
    "    x = pd.DataFrame(matrix_train)\n",
    "    x = np.round(x, 6)\n",
    "\n",
    "    eigenvalues = np.linalg.eig(x)\n",
    "    matrix = np.array(x)\n",
    "    if not (np.sum(np.abs(eigenvalues[0]) > 0) == x.shape[0]) and (np.array_equal(matrix, matrix.T)):\n",
    "        print(\"==============================\")\n",
    "        print(\"DOES NOT satisfy kernel condition\")\n",
    "        print(\"==============================\")\n",
    "\n",
    "    return x\n"
   ]
  },
  {
   "cell_type": "markdown",
   "id": "4581d16d",
   "metadata": {},
   "source": [
    "### Common Parameters"
   ]
  },
  {
   "cell_type": "code",
   "execution_count": 3,
   "id": "b298aaef",
   "metadata": {},
   "outputs": [],
   "source": [
    "norm = \"robustNorm\"\n",
    "numberOfTimeSteps = 14\n",
    "debug_plot_figures = True\n",
    "\n",
    "\n",
    "folders = [\"s1\", \"s2\", \"s3\", \"s4\"]\n",
    "\n",
    "keys = ['AMG', 'ATF', 'CF2', 'CF4', 'GCC', 'LIN', 'NTI', 'PEN', 'TTC',\n",
    "        'pc_enterob', 'pc_pseud', 'isVM', 'numberOfPatients', 'neighbor_ATF', \n",
    "        'neighbor_CAR', 'neighbor_CF1', 'neighbor_CF3', 'neighbor_CF4', 'neighbor_GLI',\n",
    "        'neighbor_MON', 'neighbor_PAP', 'neighbor_SUL']\n",
    "\n",
    "binary = ['pc_enterob', 'pc_pseud', 'isVM']\n",
    "\n",
    "continues =  [variable for variable in keys if variable not in binary]"
   ]
  },
  {
   "cell_type": "markdown",
   "id": "702a5c71",
   "metadata": {},
   "source": [
    "### Threshold value"
   ]
  },
  {
   "cell_type": "code",
   "execution_count": 4,
   "id": "4c816f18",
   "metadata": {},
   "outputs": [],
   "source": [
    "# Based on the threshold value, you can choose between: 0.6, 0.725, 0.85 and 0.975\n",
    "threshold_val_init = 0.975\n",
    "th_folder = \"th_0975\"\n",
    "save_results = False"
   ]
  },
  {
   "cell_type": "markdown",
   "id": "0bd293c9",
   "metadata": {},
   "source": [
    "# 1.DTW"
   ]
  },
  {
   "cell_type": "code",
   "execution_count": 5,
   "id": "89681b06",
   "metadata": {},
   "outputs": [],
   "source": [
    "buildGraph = \"dtw\"\n",
    "numberOfFeatures = 22"
   ]
  },
  {
   "cell_type": "markdown",
   "id": "01cb2085",
   "metadata": {},
   "source": [
    "### 1. Graph Constructed as tr[expK(DTW)]. Same Graph for Each Time Step\n",
    "#### A Single Graph for all MTS"
   ]
  },
  {
   "cell_type": "code",
   "execution_count": 6,
   "id": "8b930127",
   "metadata": {
    "scrolled": true
   },
   "outputs": [
    {
     "name": "stdout",
     "output_type": "stream",
     "text": [
      "====> Folder:s1 <====\n",
      "Number of non-zero values before applying the threshold: 373\n",
      "Number of non-zero values after applying the threshold: 117\n",
      "%: 24.173553719008265\n",
      "(22, 22)\n",
      "====> Folder:s2 <====\n",
      "Number of non-zero values before applying the threshold: 368\n",
      "Number of non-zero values after applying the threshold: 121\n",
      "%: 25.0\n",
      "(22, 22)\n",
      "====> Folder:s3 <====\n",
      "Number of non-zero values before applying the threshold: 376\n",
      "Number of non-zero values after applying the threshold: 128\n",
      "%: 26.446280991735538\n",
      "(22, 22)\n",
      "====> Folder:s4 <====\n",
      "Number of non-zero values before applying the threshold: 377\n",
      "Number of non-zero values after applying the threshold: 117\n",
      "%: 24.173553719008265\n",
      "(22, 22)\n"
     ]
    }
   ],
   "source": [
    "dicc_thresholds = {}\n",
    "for c in range(len(folders)):\n",
    "    print(\"====> Folder:\" + str(folders[c]) + \" <====\")\n",
    "    dtw = pd.read_csv(\"../step1_graphEstimation/estimatedGraphs/\"+buildGraph+\"/\"+folders[c]+\"/X_train_allMTS.csv\")\n",
    "    K = exp_kernel(dtw, 1.5)\n",
    "    K = K - np.eye(K.shape[0])\n",
    "    \n",
    "    edges_bef = np.count_nonzero(K)\n",
    "    print(\"Number of non-zero values before applying the threshold:\", edges_bef)\n",
    "    s = K.copy()\n",
    "    min_value = s.min().min()\n",
    "    max_value = s.max().max()\n",
    "    s = (s - min_value) / (max_value - min_value)\n",
    "    s[np.abs(s) < threshold_val_init] = 0\n",
    "    edges_aft = np.count_nonzero(s)\n",
    "    print(\"Number of non-zero values after applying the threshold:\", edges_aft)\n",
    "    print(\"%:\", (edges_aft * 100) / (numberOfFeatures * numberOfFeatures))\n",
    "    print(s.shape)\n",
    "    \n",
    "    pd.DataFrame(s).to_csv(\"./dtw/\"+folders[c]+\"/graph_Xtr_th_\"+str(threshold_val_init)+\".csv\", index=False)"
   ]
  },
  {
   "cell_type": "markdown",
   "id": "c82ea8ce",
   "metadata": {},
   "source": [
    "### 2. Graph Constructed as tr[expK(DTW)]. Same Graph for Each Time Step\n",
    "#### A Single Graph for static data"
   ]
  },
  {
   "cell_type": "code",
   "execution_count": 7,
   "id": "1ce53a5c",
   "metadata": {},
   "outputs": [
    {
     "name": "stdout",
     "output_type": "stream",
     "text": [
      "====> Folder:s1 <====\n",
      "Number of non-zero values before applying the threshold: 12\n",
      "Number of non-zero values after applying the threshold: 12\n",
      "%: 2.479338842975207\n",
      "(4, 4)\n",
      "====> Folder:s2 <====\n",
      "Number of non-zero values before applying the threshold: 12\n",
      "Number of non-zero values after applying the threshold: 12\n",
      "%: 2.479338842975207\n",
      "(4, 4)\n",
      "====> Folder:s3 <====\n",
      "Number of non-zero values before applying the threshold: 12\n",
      "Number of non-zero values after applying the threshold: 12\n",
      "%: 2.479338842975207\n",
      "(4, 4)\n",
      "====> Folder:s4 <====\n",
      "Number of non-zero values before applying the threshold: 12\n",
      "Number of non-zero values after applying the threshold: 12\n",
      "%: 2.479338842975207\n",
      "(4, 4)\n"
     ]
    }
   ],
   "source": [
    "threshold_val_init = 0.15\n",
    "dicc_thresholds = {}\n",
    "for c in range(len(folders)):\n",
    "    print(\"====> Folder:\" + str(folders[c]) + \" <====\")\n",
    "    dtw = pd.read_csv(\"../step1_graphEstimation/estimatedGraphs/\"+buildGraph+\"/\"+folders[c]+\"/X_train_STATIC.csv\")\n",
    "    K = exp_kernel(dtw, 0.75)\n",
    "    K = K - np.eye(K.shape[0])\n",
    "    \n",
    "    edges_bef = np.count_nonzero(K)\n",
    "    print(\"Number of non-zero values before applying the threshold:\", edges_bef)\n",
    "    s = K.copy()\n",
    "    min_value = s.min().min()\n",
    "    max_value = s.max().max()\n",
    "    s = (s - min_value) / (max_value - min_value)\n",
    "    s[np.abs(s) < threshold_val_init] = 0\n",
    "    edges_aft = np.count_nonzero(s)\n",
    "    print(\"Number of non-zero values after applying the threshold:\", edges_aft)\n",
    "    print(\"%:\", (edges_aft * 100) / (numberOfFeatures * numberOfFeatures))\n",
    "    print(s.shape)\n",
    "    \n",
    "    pd.DataFrame(s).to_csv(\"./dtw/\"+folders[c]+\"/static_graph_Xtr_th_\"+str(threshold_val_init)+\".csv\", index=False)"
   ]
  },
  {
   "cell_type": "code",
   "execution_count": 8,
   "id": "46da9fd4",
   "metadata": {},
   "outputs": [
    {
     "data": {
      "text/html": [
       "<div>\n",
       "<style scoped>\n",
       "    .dataframe tbody tr th:only-of-type {\n",
       "        vertical-align: middle;\n",
       "    }\n",
       "\n",
       "    .dataframe tbody tr th {\n",
       "        vertical-align: top;\n",
       "    }\n",
       "\n",
       "    .dataframe thead th {\n",
       "        text-align: right;\n",
       "    }\n",
       "</style>\n",
       "<table border=\"1\" class=\"dataframe\">\n",
       "  <thead>\n",
       "    <tr style=\"text-align: right;\">\n",
       "      <th></th>\n",
       "      <th>Age</th>\n",
       "      <th>Gender</th>\n",
       "      <th>SAPSIIIScore</th>\n",
       "      <th>YearOfAdmission</th>\n",
       "    </tr>\n",
       "  </thead>\n",
       "  <tbody>\n",
       "    <tr>\n",
       "      <th>0</th>\n",
       "      <td>0.000000</td>\n",
       "      <td>0.695972</td>\n",
       "      <td>0.980113</td>\n",
       "      <td>0.979627</td>\n",
       "    </tr>\n",
       "    <tr>\n",
       "      <th>1</th>\n",
       "      <td>0.695972</td>\n",
       "      <td>0.000000</td>\n",
       "      <td>0.832467</td>\n",
       "      <td>0.784231</td>\n",
       "    </tr>\n",
       "    <tr>\n",
       "      <th>2</th>\n",
       "      <td>0.980113</td>\n",
       "      <td>0.832467</td>\n",
       "      <td>0.000000</td>\n",
       "      <td>0.964986</td>\n",
       "    </tr>\n",
       "    <tr>\n",
       "      <th>3</th>\n",
       "      <td>0.979627</td>\n",
       "      <td>0.784231</td>\n",
       "      <td>0.964986</td>\n",
       "      <td>0.000000</td>\n",
       "    </tr>\n",
       "  </tbody>\n",
       "</table>\n",
       "</div>"
      ],
      "text/plain": [
       "        Age    Gender  SAPSIIIScore  YearOfAdmission\n",
       "0  0.000000  0.695972      0.980113         0.979627\n",
       "1  0.695972  0.000000      0.832467         0.784231\n",
       "2  0.980113  0.832467      0.000000         0.964986\n",
       "3  0.979627  0.784231      0.964986         0.000000"
      ]
     },
     "execution_count": 8,
     "metadata": {},
     "output_type": "execute_result"
    }
   ],
   "source": [
    "K"
   ]
  },
  {
   "cell_type": "code",
   "execution_count": null,
   "id": "1f523cfe",
   "metadata": {},
   "outputs": [],
   "source": []
  },
  {
   "cell_type": "code",
   "execution_count": null,
   "id": "ddc0b840",
   "metadata": {},
   "outputs": [],
   "source": []
  }
 ],
 "metadata": {
  "kernelspec": {
   "display_name": "Python 3 (ipykernel)",
   "language": "python",
   "name": "python3"
  },
  "language_info": {
   "codemirror_mode": {
    "name": "ipython",
    "version": 3
   },
   "file_extension": ".py",
   "mimetype": "text/x-python",
   "name": "python",
   "nbconvert_exporter": "python",
   "pygments_lexer": "ipython3",
   "version": "3.8.10"
  }
 },
 "nbformat": 4,
 "nbformat_minor": 5
}
