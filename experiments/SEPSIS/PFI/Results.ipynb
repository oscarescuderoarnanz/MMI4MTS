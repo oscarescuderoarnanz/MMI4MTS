{
 "cells": [
  {
   "cell_type": "code",
   "execution_count": 1,
   "id": "07456fed-de05-4fd5-899c-319af610bb8a",
   "metadata": {},
   "outputs": [],
   "source": [
    "import os\n",
    "import pandas as pd"
   ]
  },
  {
   "cell_type": "markdown",
   "id": "5bc1c69a-b9d5-4a18-952d-036e4ad1d949",
   "metadata": {},
   "source": [
    "# Functions to compute the numerical results"
   ]
  },
  {
   "cell_type": "code",
   "execution_count": 2,
   "id": "682d2138-2f4e-46c8-b3ef-92715a806a2e",
   "metadata": {},
   "outputs": [],
   "source": [
    "def load_metrics(result_folder, split):\n",
    "    if \"LFLR\" in result_folder:\n",
    "        metrics_file = os.path.join(result_folder, \"LR\", f\"split_{split}\", f\"metrics_split{split}.csv\")\n",
    "    elif \"LFCO\" in result_folder:\n",
    "        metrics_file = os.path.join(result_folder, \"LR\", f\"split_{split}\", f\"metrics_split{split}.csv\")\n",
    "    else:\n",
    "        metrics_file = os.path.join(result_folder, f\"split_{split}\", f\"metrics_split{split}.csv\")\n",
    "    \n",
    "    if not os.path.exists(metrics_file):\n",
    "        raise FileNotFoundError(f\"File not found: {metrics_file}\")\n",
    "    \n",
    "    return pd.read_csv(metrics_file)\n",
    "\n",
    "# Function to calculate the mean and standard deviation of metrics\n",
    "def calculate_statistics(result_folder, splits=[1, 2, 3]):\n",
    "    all_metrics = []\n",
    "\n",
    "    # Load metrics from all splits\n",
    "    for split in splits:\n",
    "        split_metrics = load_metrics(result_folder, split)\n",
    "        all_metrics.append(split_metrics)\n",
    "\n",
    "    # Concatenate all split metrics into a DataFrame\n",
    "    metrics_df = pd.concat(all_metrics)\n",
    "\n",
    "    # Calculate mean and standard deviation for each metric\n",
    "    statistics = {\n",
    "        \"mean\": metrics_df.mean() * 100,\n",
    "        \"std_dev\": metrics_df.std() * 100\n",
    "    }\n",
    "\n",
    "    return statistics\n",
    "\n",
    "def get_valid_subfolders(directory):\n",
    "    return sorted([f for f in os.listdir(directory) if os.path.isdir(os.path.join(directory, f)) and not f.startswith('.')])"
   ]
  },
  {
   "cell_type": "markdown",
   "id": "5f9c12ce-8cb9-4c44-8181-6663d7181f02",
   "metadata": {},
   "source": [
    "# Results"
   ]
  },
  {
   "cell_type": "code",
   "execution_count": 3,
   "id": "52ed25ee-b9ed-41cf-af96-fc934a3d33ed",
   "metadata": {},
   "outputs": [],
   "source": [
    "models = [\"./GRU\", './FHSI']\n",
    "\n",
    "results_list = []\n",
    "\n",
    "for model in models:\n",
    "    result_subfolders = get_valid_subfolders(model)\n",
    "    \n",
    "    for result_folder in result_subfolders:\n",
    "        result_path = os.path.join(model, result_folder)\n",
    "\n",
    "        try:\n",
    "            statistics = calculate_statistics(result_path)\n",
    "            mean = statistics[\"mean\"]\n",
    "            std_dev = statistics[\"std_dev\"]\n",
    "            row = {\n",
    "                \"Model\": f\"{os.path.basename(model)}_{result_folder}\",\n",
    "                \"Accuracy\": f\"{mean['accuracy']:.2f} ± {std_dev['accuracy']:.2f}\",\n",
    "                \"Specificity\": f\"{mean['specificity']:.2f} ± {std_dev['specificity']:.2f}\",\n",
    "                \"Sensitivity\": f\"{mean['recall']:.2f} ± {std_dev['recall']:.2f}\",\n",
    "                \"ROC AUC\": f\"{mean['roc_auc']:.2f} ± {std_dev['roc_auc']:.2f}\"\n",
    "            }\n",
    "            \n",
    "            results_list.append(row)\n",
    "        \n",
    "        except FileNotFoundError as e:\n",
    "            print(e)\n",
    "\n",
    "results_df = pd.DataFrame(results_list)\n",
    "results_df = results_df.sort_values(by=\"Model\").reset_index(drop=True)"
   ]
  },
  {
   "cell_type": "code",
   "execution_count": 4,
   "id": "fb3bd2c2-72be-4431-90e1-036180fbc2fc",
   "metadata": {},
   "outputs": [
    {
     "data": {
      "text/html": [
       "<div>\n",
       "<style scoped>\n",
       "    .dataframe tbody tr th:only-of-type {\n",
       "        vertical-align: middle;\n",
       "    }\n",
       "\n",
       "    .dataframe tbody tr th {\n",
       "        vertical-align: top;\n",
       "    }\n",
       "\n",
       "    .dataframe thead th {\n",
       "        text-align: right;\n",
       "    }\n",
       "</style>\n",
       "<table border=\"1\" class=\"dataframe\">\n",
       "  <thead>\n",
       "    <tr style=\"text-align: right;\">\n",
       "      <th></th>\n",
       "      <th>Model</th>\n",
       "      <th>Accuracy</th>\n",
       "      <th>Specificity</th>\n",
       "      <th>Sensitivity</th>\n",
       "      <th>ROC AUC</th>\n",
       "    </tr>\n",
       "  </thead>\n",
       "  <tbody>\n",
       "    <tr>\n",
       "      <th>0</th>\n",
       "      <td>FHSI_Results_FHSI-4MTS-3Features</td>\n",
       "      <td>70.94 ± 0.50</td>\n",
       "      <td>74.17 ± 1.68</td>\n",
       "      <td>56.15 ± 6.16</td>\n",
       "      <td>70.11 ± 0.91</td>\n",
       "    </tr>\n",
       "    <tr>\n",
       "      <th>1</th>\n",
       "      <td>FHSI_Results_FHSI-5MTS-3Features</td>\n",
       "      <td>67.98 ± 2.94</td>\n",
       "      <td>68.92 ± 4.25</td>\n",
       "      <td>63.95 ± 3.45</td>\n",
       "      <td>70.82 ± 1.31</td>\n",
       "    </tr>\n",
       "    <tr>\n",
       "      <th>2</th>\n",
       "      <td>GRU_Results_GRU-3MTS</td>\n",
       "      <td>66.70 ± 3.15</td>\n",
       "      <td>68.05 ± 4.18</td>\n",
       "      <td>60.05 ± 2.52</td>\n",
       "      <td>69.51 ± 1.22</td>\n",
       "    </tr>\n",
       "  </tbody>\n",
       "</table>\n",
       "</div>"
      ],
      "text/plain": [
       "                              Model      Accuracy   Specificity   Sensitivity  \\\n",
       "0  FHSI_Results_FHSI-4MTS-3Features  70.94 ± 0.50  74.17 ± 1.68  56.15 ± 6.16   \n",
       "1  FHSI_Results_FHSI-5MTS-3Features  67.98 ± 2.94  68.92 ± 4.25  63.95 ± 3.45   \n",
       "2              GRU_Results_GRU-3MTS  66.70 ± 3.15  68.05 ± 4.18  60.05 ± 2.52   \n",
       "\n",
       "        ROC AUC  \n",
       "0  70.11 ± 0.91  \n",
       "1  70.82 ± 1.31  \n",
       "2  69.51 ± 1.22  "
      ]
     },
     "execution_count": 4,
     "metadata": {},
     "output_type": "execute_result"
    }
   ],
   "source": [
    "results_df"
   ]
  },
  {
   "cell_type": "code",
   "execution_count": 5,
   "id": "d2454243-40df-42bc-9590-815858b410ce",
   "metadata": {},
   "outputs": [
    {
     "data": {
      "text/plain": [
       "'70.94 ± 0.50'"
      ]
     },
     "execution_count": 5,
     "metadata": {},
     "output_type": "execute_result"
    }
   ],
   "source": [
    "results_df['Accuracy'].max()"
   ]
  },
  {
   "cell_type": "code",
   "execution_count": 6,
   "id": "58c60679-018b-49d5-b892-d9b3785d32d2",
   "metadata": {},
   "outputs": [
    {
     "data": {
      "text/plain": [
       "'74.17 ± 1.68'"
      ]
     },
     "execution_count": 6,
     "metadata": {},
     "output_type": "execute_result"
    }
   ],
   "source": [
    "results_df['Specificity'].max()"
   ]
  },
  {
   "cell_type": "code",
   "execution_count": 7,
   "id": "b2286ed9-2782-401b-8fad-68dfd1b07109",
   "metadata": {},
   "outputs": [
    {
     "data": {
      "text/plain": [
       "'63.95 ± 3.45'"
      ]
     },
     "execution_count": 7,
     "metadata": {},
     "output_type": "execute_result"
    }
   ],
   "source": [
    "results_df['Sensitivity'].max()"
   ]
  },
  {
   "cell_type": "code",
   "execution_count": 8,
   "id": "6d47e3c4-fd21-4dbc-ad82-a57a7c6b6d1c",
   "metadata": {},
   "outputs": [
    {
     "data": {
      "text/plain": [
       "'70.82 ± 1.31'"
      ]
     },
     "execution_count": 8,
     "metadata": {},
     "output_type": "execute_result"
    }
   ],
   "source": [
    "results_df['ROC AUC'].max()"
   ]
  },
  {
   "cell_type": "code",
   "execution_count": 9,
   "id": "dee0f84a-01e5-4f83-8f99-bf54594a5d52",
   "metadata": {},
   "outputs": [
    {
     "name": "stdout",
     "output_type": "stream",
     "text": [
      "Mean of the values:\n",
      "Accuracy_Mean       68.540000\n",
      "Specificity_Mean    70.380000\n",
      "Sensitivity_Mean    60.050000\n",
      "ROC AUC_Mean        70.146667\n",
      "dtype: float64\n",
      "\n",
      "Mean of the standard deviations:\n",
      "Accuracy_StdDev       2.196667\n",
      "Specificity_StdDev    3.370000\n",
      "Sensitivity_StdDev    4.043333\n",
      "ROC AUC_StdDev        1.146667\n",
      "dtype: float64\n"
     ]
    }
   ],
   "source": [
    "for col in ['Accuracy', 'Specificity', 'Sensitivity', 'ROC AUC']:\n",
    "    results_df[[f'{col}_Mean', f'{col}_StdDev']] = results_df[col].str.split(' ± ', expand=True).astype(float)\n",
    "\n",
    "mean_values = results_df[[f'{col}_Mean' for col in ['Accuracy', 'Specificity', 'Sensitivity', 'ROC AUC']]].mean()\n",
    "mean_stddevs = results_df[[f'{col}_StdDev' for col in ['Accuracy', 'Specificity', 'Sensitivity', 'ROC AUC']]].mean()\n",
    "\n",
    "print(\"Mean of the values:\")\n",
    "print(mean_values)\n",
    "print(\"\\nMean of the standard deviations:\")\n",
    "print(mean_stddevs)"
   ]
  },
  {
   "cell_type": "code",
   "execution_count": null,
   "id": "6b205631-2dd7-463d-b2a3-ce0014175ee8",
   "metadata": {},
   "outputs": [],
   "source": []
  }
 ],
 "metadata": {
  "kernelspec": {
   "display_name": "Python 3 (ipykernel)",
   "language": "python",
   "name": "python3"
  },
  "language_info": {
   "codemirror_mode": {
    "name": "ipython",
    "version": 3
   },
   "file_extension": ".py",
   "mimetype": "text/x-python",
   "name": "python",
   "nbconvert_exporter": "python",
   "pygments_lexer": "ipython3",
   "version": "3.8.10"
  }
 },
 "nbformat": 4,
 "nbformat_minor": 5
}
